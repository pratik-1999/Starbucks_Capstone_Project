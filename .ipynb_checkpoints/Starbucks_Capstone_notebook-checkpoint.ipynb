version https://git-lfs.github.com/spec/v1
oid sha256:587e5e50a29f7a85e06a9ad4282f3b253079d22d949c4c71bb8b706197e8164e
size 2225270
