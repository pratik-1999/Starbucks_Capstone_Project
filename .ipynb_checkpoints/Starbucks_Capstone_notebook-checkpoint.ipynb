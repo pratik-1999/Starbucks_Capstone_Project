version https://git-lfs.github.com/spec/v1
oid sha256:57e8fa60fadb21b2d96e33b156a8ac8b9d795ea2b9dbf22031c8d1fdbdc4d464
size 1116157
