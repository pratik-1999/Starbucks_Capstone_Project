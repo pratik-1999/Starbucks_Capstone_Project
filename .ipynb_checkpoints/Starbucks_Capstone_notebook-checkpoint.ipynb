version https://git-lfs.github.com/spec/v1
oid sha256:ceae5a64e9540799a4bae3d95b6c6a69e2fc51c0e49bd45e780ef3a3403e6034
size 65372
