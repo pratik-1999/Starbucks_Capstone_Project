version https://git-lfs.github.com/spec/v1
oid sha256:72e5360ab10c28c56925ab140c715527fabd1f6118348cd73380ffff34e24c10
size 74234
