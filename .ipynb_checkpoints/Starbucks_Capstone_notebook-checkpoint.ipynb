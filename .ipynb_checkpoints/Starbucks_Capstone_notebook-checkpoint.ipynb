version https://git-lfs.github.com/spec/v1
oid sha256:5015ff265c1c3035f4dc81eb290a861553c2d70385608ef5973d98b19e87f02a
size 42002
