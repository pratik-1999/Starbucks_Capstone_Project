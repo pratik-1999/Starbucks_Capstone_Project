version https://git-lfs.github.com/spec/v1
oid sha256:0c260e6cc3ef84012084e0e82ce3389cfb838dbfdbb8b92df9429df907195fe9
size 2225139
