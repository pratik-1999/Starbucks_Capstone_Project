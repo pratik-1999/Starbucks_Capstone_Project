version https://git-lfs.github.com/spec/v1
oid sha256:f775604ed9ea3ee5bd3d0c9431b6ca12d86f958bc0293f5ef53cf9fcae086eba
size 513786
