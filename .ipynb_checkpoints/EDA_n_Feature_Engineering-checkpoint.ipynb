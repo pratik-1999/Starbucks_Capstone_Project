version https://git-lfs.github.com/spec/v1
oid sha256:77776a6b3a4a6c4e05c8052f1ea0197fad12fe02d7b63bb961ef3020801b0af8
size 469440
