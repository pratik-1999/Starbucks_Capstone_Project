version https://git-lfs.github.com/spec/v1
oid sha256:bdb5f6bd594aa21a9d6c846dd0b0c1c9ffbea745474dad0e89346e44e12d1a11
size 2677547
