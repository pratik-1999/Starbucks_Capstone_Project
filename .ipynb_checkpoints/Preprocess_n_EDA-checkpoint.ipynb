version https://git-lfs.github.com/spec/v1
oid sha256:cde96770a6e0a7368f9ecabe16cb4142880d800739162f1ace69693ec09f8e00
size 390090
