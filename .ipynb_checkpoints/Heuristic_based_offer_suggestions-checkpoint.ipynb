version https://git-lfs.github.com/spec/v1
oid sha256:c384adc892cbdc354662f6a916a232f471e609710c1f9769265104aaa1a8335a
size 502299
