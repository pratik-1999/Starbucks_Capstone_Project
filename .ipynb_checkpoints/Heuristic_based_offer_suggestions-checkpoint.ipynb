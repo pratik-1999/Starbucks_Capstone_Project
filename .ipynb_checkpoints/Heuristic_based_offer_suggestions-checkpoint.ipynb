version https://git-lfs.github.com/spec/v1
oid sha256:51accc0889fe729548aed7e290658b85d90efacb931794013e7ffd7dc8e6c123
size 99428
