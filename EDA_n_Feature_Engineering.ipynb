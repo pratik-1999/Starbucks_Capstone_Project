version https://git-lfs.github.com/spec/v1
oid sha256:b8273624fa4722e1fbb4e2dace0c5b3110450b02d75491ab68dee646bdc135fd
size 530665
