version https://git-lfs.github.com/spec/v1
oid sha256:305af1e7bd4cea62314a0398c797c19dc4f3803d35094b864a3eae12aa93f5f5
size 477343
