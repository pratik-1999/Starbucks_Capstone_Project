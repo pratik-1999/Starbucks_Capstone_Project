version https://git-lfs.github.com/spec/v1
oid sha256:2e7992b918e3ea70b1a1d55c7c3541c229d0c738011a7780dc06793a4c226692
size 549013
