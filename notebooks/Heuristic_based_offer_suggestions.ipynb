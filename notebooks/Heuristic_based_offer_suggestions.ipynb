version https://git-lfs.github.com/spec/v1
oid sha256:12186c1ba3b5feeef03b36852489524d95c9b23bbd46e4767b48d31fa25eb010
size 751416
