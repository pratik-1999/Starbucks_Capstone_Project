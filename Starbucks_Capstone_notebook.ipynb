version https://git-lfs.github.com/spec/v1
oid sha256:e247e0928504ba512272bb0f48b6632e345cd2c693a0e6358f11890aa944e1c5
size 20010
