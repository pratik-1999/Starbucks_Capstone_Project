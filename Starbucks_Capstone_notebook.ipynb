version https://git-lfs.github.com/spec/v1
oid sha256:1fb1be0169dfdae4c46ec6ccea2edb375851f2f3201a9111990e2aac0ac551d2
size 520989
