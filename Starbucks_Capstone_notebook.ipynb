version https://git-lfs.github.com/spec/v1
oid sha256:526ec3094feabd5216e471b49af946924306b39ba7d36b1171f0b90d75550744
size 635381
