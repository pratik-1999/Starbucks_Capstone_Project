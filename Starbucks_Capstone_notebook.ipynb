version https://git-lfs.github.com/spec/v1
oid sha256:a91b002ff73efe7135d73863876759b38e861a5e8970bf1c872c9f64105b382a
size 51851
